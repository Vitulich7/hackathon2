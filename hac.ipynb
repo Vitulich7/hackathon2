{
  "cells": [
    {
      "cell_type": "markdown",
      "metadata": {
        "id": "2GI_Oxo8ETYS"
      },
      "source": [
        "## 1. Постановка задачи"
      ]
    },
    {
      "cell_type": "markdown",
      "metadata": {
        "id": "4SDsSuDxETYW"
      },
      "source": [
        "<center> <img src=https://storage.googleapis.com/kaggle-competitions/kaggle/3333/media/taxi_meter.png align=\"right\" width=\"300\"/> </center>\n",
        "    \n",
        "Вам предстоит решить настоящую задачу машинного обучения, направленную на автоматизацию бизнес процессов. Мы построим модель, которая будет предсказывать общую продолжительность поездки такси в Нью-Йорке.\n",
        "\n",
        "Представьте вы заказываете такси из одной точки Нью-Йорка в другую, причем не обязательно конечная точка должна находиться в пределах города. Сколько вы должны будете за нее заплатить? Известно, что стоимость такси в США  рассчитывается на основе фиксированной ставки + тарифная стоимость, величина которой зависит от времени и расстояния. Тарифы варьируются в зависимости от города.\n",
        "\n",
        "В свою очередь время поездки зависит от множества факторов таких как, откуда и куда вы едете, в какое время суток вы совершаете вашу поездку, погодных условий и так далее.\n",
        "\n",
        "Таким образом, если мы разработаем алгоритм, способный определять длительность поездки, мы сможем прогнозировать ее стоимость самым тривиальным образом, например, просто умножая стоимость на заданный тариф.\n",
        "Сервисы такси хранят огромные объёмы информации о поездках, включая такие данные как конечная, начальная точка маршрута, дата поездки и ее длительность. Эти данные можно использовать для того, чтобы прогнозировать длительность поездки в автоматическом режиме с привлечением искусственного интеллекта.\n",
        "\n",
        "**Бизнес-задача:** определить характеристики и с их помощью спрогнозировать длительность поездки такси.\n",
        "\n",
        "**Техническая задача для вас как для специалиста в Data Science:** построить модель машинного обучения, которая на основе предложенных характеристик клиента будет предсказывать числовой признак - время поездки такси. То есть решить задачу регрессии.\n",
        "\n",
        "**Основные цели проекта:**\n",
        "1. Сформировать набор данных на основе нескольких источников информации\n",
        "2. Спроектировать новые признаки с помощью Feature Engineering и выявить наиболее значимые при построении модели\n",
        "3. Исследовать предоставленные данные и выявить закономерности\n",
        "4. Построить несколько моделей и выбрать из них наилучшую по заданной метрике\n",
        "5. Спроектировать процесс предсказания времени длительности поездки для новых данных\n",
        "\n",
        "Загрузить свое решение на платформу Kaggle, тем самым поучаствовав в настоящем Data Science соревновании.\n",
        "Во время выполнения проекта вы отработаете навыки работы с несколькими источниками данных, генерации признаков, разведывательного анализа и визуализации данных, отбора признаков и, конечно же, построения моделей машинного обучения!\n"
      ]
    },
    {
      "cell_type": "markdown",
      "metadata": {
        "id": "5Se_P4bCETYY"
      },
      "source": [
        "## 2. Знакомство с данными, базовый анализ и расширение данных"
      ]
    },
    {
      "cell_type": "markdown",
      "metadata": {
        "id": "6-66ktU0ETYY"
      },
      "source": [
        "Начнём наше исследование со знакомства с предоставленными данными. А также подгрузим дополнительные источники данных и расширим наш исходный датасет.\n"
      ]
    },
    {
      "cell_type": "markdown",
      "metadata": {
        "id": "9OsE1tM0ETYZ"
      },
      "source": [
        "Заранее импортируем модули, которые нам понадобятся для решения задачи:"
      ]
    },
    {
      "cell_type": "code",
      "execution_count": null,
      "metadata": {
        "id": "l7TwLu6HETYa"
      },
      "outputs": [],
      "source": [
        "import numpy as np\n",
        "import pandas as pd\n",
        "import matplotlib.pyplot as plt\n",
        "import seaborn as sns\n",
        "import plotly.express as px\n",
        "\n",
        "from scipy import stats\n",
        "from sklearn import linear_model\n",
        "from sklearn import preprocessing\n",
        "from sklearn import model_selection\n",
        "from sklearn import tree\n",
        "from sklearn import ensemble\n",
        "from sklearn import metrics\n",
        "from sklearn import cluster\n",
        "from sklearn import feature_selection\n",
        "\n",
        "\n",
        "import gdown\n",
        "import os\n",
        "\n",
        "# Создаем папку для данных, если она не существует\n",
        "os.makedirs(\"data\", exist_ok=True)\n",
        "\n",
        "# Ссылки на файлы\n",
        "urls = {\n",
        "    \"weather_data\": \"https://drive.google.com/uc?id=1MOGFkrHDbt9qU6GrGl5waOwYrHgj2Ctt\",\n",
        "    \"train\": \"https://drive.google.com/uc?id=1bBF2L41EgntTL7n4HNoNVBGsJ328Lk3-\",\n",
        "    \"osrm_data_train\": \"https://drive.google.com/uc?id=1tdQvrpnbfSGLehvnCihyy4EnFslk5NMX\",\n",
        "    \"holiday_data\": \"https://drive.google.com/uc?id=1ov8lhWeSbdKTBKjGUiNImLzyjSZfOMsM\"\n",
        "}\n",
        "\n",
        "# Загрузка файлов\n",
        "for name, url in urls.items():\n",
        "    try:\n",
        "        gdown.download(url, f\"data/{name}.csv\", quiet=False)\n",
        "    except Exception as e:\n",
        "        print(f\"Ошибка при загрузке {name}: {e}\")\n",
        "\n",
        "# Теперь вы можете загружать данные из загруженных файлов\n",
        "try:\n",
        "    taxi_data = pd.read_csv(\"data/train.csv\")\n",
        "    weather_data = pd.read_csv(\"data/weather_data.csv\")\n",
        "    osrm_data = pd.read_csv(\"data/osrm_data_train.csv\")\n",
        "    holiday_data = pd.read_csv(\"data/holiday_data.csv\")\n",
        "\n",
        "    print('Train data shape: {}'.format(taxi_data.shape))\n",
        "    print('Weather data shape: {}'.format(weather_data.shape))\n",
        "    print('OSRM data shape: {}'.format(osrm_data.shape))\n",
        "    print('Holiday data shape: {}'.format(holiday_data.shape))\n",
        "except FileNotFoundError as e:\n",
        "    print(f\"Ошибка: файл не найден. {e}\")\n",
        "except Exception as e:\n",
        "    print(f\"Ошибка при чтении данных: {e}\")\n",
        "\n",
        "\n"
      ]
    },
    {
      "cell_type": "markdown",
      "metadata": {
        "id": "vw09SWF1ETYb"
      },
      "source": [
        "Прочитаем наш файл с исходными данными:"
      ]
    },
    {
      "cell_type": "code",
      "execution_count": null,
      "metadata": {
        "id": "fuDEgpA7ETYc"
      },
      "outputs": [],
      "source": [
        "taxi_data = pd.read_csv(\"data/train.csv\")\n",
        "print('Train data shape: {}'.format(taxi_data.shape))\n",
        "taxi_data.head()"
      ]
    },
    {
      "cell_type": "markdown",
      "metadata": {
        "id": "icjLr5L0ETYc"
      },
      "source": [
        "Итак, у нас с вами есть данные о почти 1.5 миллионах поездок и 11 характеристиках, которые описывают каждую из поездок."
      ]
    },
    {
      "cell_type": "markdown",
      "metadata": {
        "id": "zT5xNfavETYd"
      },
      "source": [
        "Мы условно разделили признаки нескольких групп. Каждой из групп мы в дальнейшем уделим отдельное внимание.\n",
        "\n",
        "**Данные о клиенте и таксопарке:**\n",
        "* id - уникальный идентификатор поездки\n",
        "* vendor_id - уникальный идентификатор поставщика (таксопарка), связанного с записью поездки\n",
        "\n",
        "**Временные характеристики:**\n",
        "* pickup_datetime - дата и время, когда был включен счетчик поездки\n",
        "* dropoff_datetime - дата и время, когда счетчик был отключен\n",
        "\n",
        "**Географическая информация:**\n",
        "* pickup_longitude -  долгота, на которой был включен счетчик\n",
        "* pickup_latitude - широта, на которой был включен счетчик\n",
        "* dropoff_longitude - долгота, на которой счетчик был отключен\n",
        "* dropoff_latitude - широта, на которой счетчик был отключен\n",
        "\n",
        "**Прочие признаки:**\n",
        "* passenger_count - количество пассажиров в транспортном средстве (введенное водителем значение)\n",
        "* store_and_fwd_flag - флаг, который указывает, сохранилась ли запись о поездке в памяти транспортного средства перед отправкой поставщику. Y - хранить и пересылать, N - не хранить и не пересылать поездку.\n",
        "\n",
        "**Целевой признак:**\n",
        "* trip_duration - продолжительность поездки в секундах\n"
      ]
    },
    {
      "cell_type": "markdown",
      "metadata": {
        "id": "JzfbYkvDETYd"
      },
      "source": [
        "Для начала мы проведем базовый анализ того, насколько данные готовы к дальнейшей предобработке и анализу."
      ]
    },
    {
      "cell_type": "markdown",
      "metadata": {
        "id": "GcW5JyFAETYe"
      },
      "source": [
        "### Задание 2.1\n",
        "Для начала посмотрим на временные рамки, в которых мы работаем с данными.\n",
        "\n",
        "Переведите признак pickup_datetime в тип данных datetime с форматом год-месяц-день час:минута:секунда (в функции pd.to_datetime() параметр format='%Y-%m-%d %H:%M:%S').\n",
        "\n",
        "Определите временные рамки (без учета времени), за которые представлены данные."
      ]
    },
    {
      "cell_type": "code",
      "execution_count": null,
      "metadata": {
        "id": "AALGA9H2ETYf"
      },
      "outputs": [],
      "source": [
        "# преобразовываем признаки в формат datetime для удобной работы\n",
        "taxi_data['pickup_datetime'] = pd.to_datetime(\n",
        "    taxi_data['pickup_datetime'],\n",
        "    format = '%Y-%m-%d %H:%M:%S'\n",
        ")\n",
        "taxi_data['dropoff_datetime'] = pd.to_datetime(\n",
        "    taxi_data['dropoff_datetime'],\n",
        "    format = '%Y-%m-%d %H:%M:%S'\n",
        ")\n",
        "\n",
        "print(taxi_data['pickup_datetime'].min())\n",
        "print(taxi_data['pickup_datetime'].max())"
      ]
    },
    {
      "cell_type": "markdown",
      "metadata": {
        "id": "g0RTZSwTETYf"
      },
      "source": [
        "### Задание 2.2\n",
        "Посмотрим на пропуски.\n",
        "Сколько пропущенных значений присутствует в данных (суммарно по всем столбцам таблицы)?"
      ]
    },
    {
      "cell_type": "code",
      "execution_count": null,
      "metadata": {
        "id": "fhT1WRFLETYg"
      },
      "outputs": [],
      "source": [
        "taxi_data.isnull().sum()"
      ]
    },
    {
      "cell_type": "markdown",
      "metadata": {
        "id": "65ard-aAETYg"
      },
      "source": [
        "### Задание 2.3\n",
        "Посмотрим на статистические характеристики некоторых признаков.\n",
        "\n",
        "а) Сколько уникальных таксопарков присутствует в данных?\n",
        "\n",
        "б) Каково максимальное количество пассажиров?\n",
        "\n",
        "в) Чему равна средняя и медианная длительность поездки? Ответ приведите в секундах и округлите до целого.\n",
        "\n",
        "г) Чему равно минимальное и максимальное время поездки (в секундах)?\n"
      ]
    },
    {
      "cell_type": "code",
      "execution_count": null,
      "metadata": {
        "id": "lyXpow8VETYg"
      },
      "outputs": [],
      "source": [
        "round(taxi_data.describe())"
      ]
    },
    {
      "cell_type": "markdown",
      "metadata": {
        "id": "nNrh9RQqETYg"
      },
      "source": [
        "Займемся расширением исходного набора данных как с помощью внешних источников, так и с помощью манипуляций над имеющимися в данных признаками.\n"
      ]
    },
    {
      "cell_type": "markdown",
      "metadata": {
        "id": "YhewpQwpETYh"
      },
      "source": [
        "### Задание 2.4\n",
        "Реализуйте функцию add_datetime_features(), которая принимает на вход таблицу с данными о поездках (DataFrame) и возвращает ту же таблицу с добавленными в нее 3 столбцами:\n",
        "* pickup_date - дата включения счетчика - начала поездки (без времени);\n",
        "* pickup_hour - час дня включения счетчика;\n",
        "* pickup_day_of_week - наименование дня недели, в который был включен счетчик.\n",
        "\n",
        "а) Сколько поездок было совершено в субботу?\n",
        "\n",
        "б) Сколько поездок в среднем совершается в день? Ответ округлите до целого"
      ]
    },
    {
      "cell_type": "code",
      "execution_count": null,
      "metadata": {
        "id": "3rFbx0oLETYh"
      },
      "outputs": [],
      "source": [
        "# реализуем функцию\n",
        "def add_datetime_features(df):\n",
        "    \"\"\"\n",
        "    Функция добавляющая в таблицу с данными о поездках:\n",
        "        - дату включения счётчика\n",
        "        - час влключеня счётчика\n",
        "        - день недели включения счётчика\n",
        "\n",
        "    Args:\n",
        "        df (DataFrame): исходный набор данных\n",
        "\n",
        "    Returns:\n",
        "        df (DataFrame): дополненный набор данных\n",
        "    \"\"\"\n",
        "    df['pickup_date'] = df['pickup_datetime'].dt.date\n",
        "    df['pickup_hour'] = df['pickup_datetime'].dt.hour\n",
        "    df['pickup_day_of_week'] = df['pickup_datetime'].dt.dayofweek\n",
        "    return df\n",
        "\n",
        "# добавляем данные\n",
        "taxi_data = add_datetime_features(taxi_data)\n",
        "\n",
        "# рассчитываем показатели\n",
        "mask = taxi_data['pickup_day_of_week'] == 5\n",
        "print(taxi_data[mask].shape[0], 'поездок было совершено в субботу')\n",
        "\n",
        "mean_per_day = taxi_data.shape[0] / taxi_data['pickup_date'].nunique()\n",
        "print(round(mean_per_day), 'поездок в среднем совершается в день')\n",
        "\n"
      ]
    },
    {
      "cell_type": "markdown",
      "metadata": {
        "id": "BUnlRgVuETYh"
      },
      "source": [
        "### Задание 2.5\n",
        "Реализуйте функцию add_holiday_features(), которая принимает на вход две таблицы:\n",
        "* таблицу с данными о поездках;\n",
        "* таблицу с данными о праздничных днях;\n",
        "\n",
        "и возвращает обновленную таблицу с данными о поездках с добавленным в нее столбцом pickup_holiday - бинарным признаком того, начата ли поездка в праздничный день или нет (1 - да, 0 - нет).\n",
        "\n",
        "Чему равна медианная длительность поездки на такси в праздничные дни? Ответ приведите в секундах, округлив до целого.\n"
      ]
    },
    {
      "cell_type": "code",
      "execution_count": null,
      "metadata": {
        "id": "FhDzgAWZETYi"
      },
      "outputs": [],
      "source": [
        "\n",
        "# загружаем файл с праздничными датами\n",
        "holiday_data = pd.read_csv('data/holiday_data.csv', sep=';')\n",
        "\n",
        "# реализуем функцию\n",
        "def add_holiday_features(df_taxi, df_holiday):\n",
        "    \"\"\"\n",
        "    Функция добавляющая в таблицу с данными о поездках\n",
        "    бинарный признак - начата ли поездка в праздничный день.\n",
        "\n",
        "    Args:\n",
        "        df_taxi (DataFrame): таблица с данными о поездках\n",
        "        df_holiday (DataFrame): таблица с праздничными датами\n",
        "\n",
        "    Returns:\n",
        "        df_taxi (DataFrame): дополненный набор данных\n",
        "    \"\"\"\n",
        "    df_taxi['pickup_holiday'] = df_taxi['pickup_date'].apply(\n",
        "        lambda x: 1 if str(x) in df_holiday['date'].values else 0\n",
        "    )\n",
        "    return df_taxi\n",
        "\n",
        "# добавляем данные\n",
        "taxi_data = add_holiday_features(taxi_data, holiday_data)\n",
        "\n",
        "# вычисляем длительность поездки\n",
        "mask = taxi_data['pickup_holiday'] == 1\n",
        "print(\n",
        "    'Медианная длительность поезди в праздничные дни:',\n",
        "    taxi_data[mask]['trip_duration'].median()\n",
        ")"
      ]
    },
    {
      "cell_type": "markdown",
      "metadata": {
        "id": "DgjV2M6OETYj"
      },
      "source": [
        "### Задание 2.6\n",
        "Реализуйте функцию add_osrm_features(), которая принимает на вход две таблицы:\n",
        "* таблицу с данными о поездках;\n",
        "* таблицу с данными из OSRM;\n",
        "\n",
        "и возвращает обновленную таблицу с данными о поездках с добавленными в нее 3 столбцами:\n",
        "* total_distance;\n",
        "* total_travel_time;\n",
        "* number_of_steps.\n",
        "\n",
        "а) Чему равна разница (в секундах) между медианной длительностью поездки в данных и медианной длительностью поездки, полученной из OSRM?\n",
        "\n",
        "В результате объединения таблиц у вас должны были получиться пропуски в столбцах с информацией из OSRM API. Это связано с тем, что для некоторых поездок не удалось выгрузить данные из веб источника.\n",
        "\n",
        "б) Сколько пропусков содержится в столбцах с информацией из OSRM API после объединения таблиц?"
      ]
    },
    {
      "cell_type": "code",
      "execution_count": null,
      "metadata": {
        "id": "i26nRO9nETYj"
      },
      "outputs": [],
      "source": [
        "\n",
        "\n",
        "# загружаем файл с праздничными датами\n",
        "osrm_data = pd.read_csv(\"data/osrm_data_train.csv\")\n",
        "\n",
        "# реализуем функцию\n",
        "def add_osrm_features(df_taxi, df_osrm):\n",
        "    \"\"\"\n",
        "    Функция добавляющая в таблицу с данными о поездках данные из OSRM:\n",
        "        - кратчайшее дорожное расстояние\n",
        "        - наименьшее время поездки\n",
        "        - количество дискретных шагов\n",
        "\n",
        "    Args:\n",
        "        df_taxi (DataFrame): таблица с данными о поездках\n",
        "        df_osrm (DataFrame): данные из OSRM (Open Source Routing Machine)\n",
        "\n",
        "    Returns:\n",
        "        df_taxi (DataFrame): дополненный набор данных\n",
        "    \"\"\"\n",
        "    df_osrm = df_osrm[\n",
        "        ['id', 'total_distance', 'total_travel_time', 'number_of_steps']\n",
        "    ]\n",
        "    return df_taxi.merge(df_osrm, on = 'id', how = 'left')\n",
        "\n",
        "# добавляем данные\n",
        "taxi_data = add_osrm_features(taxi_data, osrm_data)\n",
        "\n",
        "# рассчитываем показатели\n",
        "median_time_delta = (\n",
        "    taxi_data['trip_duration'].median()\n",
        "    - taxi_data['total_travel_time'].median()\n",
        ")\n",
        "print('Разница в секундах:', round(median_time_delta))\n",
        "\n",
        "cols_null_count = taxi_data.isnull().sum()\n",
        "cols_with_null = cols_null_count[cols_null_count > 0]\n",
        "print('\\n', 'Количество пропусков по колонкам:\\n', cols_with_null)\n",
        "\n",
        "# убедимся, что все 3 пропуска находятся в 1 строке\n",
        "mask = taxi_data['total_distance'].isnull()\n",
        "display(taxi_data[mask])\n",
        "\n"
      ]
    },
    {
      "cell_type": "code",
      "execution_count": null,
      "metadata": {
        "id": "zx74FouBETYk"
      },
      "outputs": [],
      "source": [
        "def get_haversine_distance(lat1, lng1, lat2, lng2):\n",
        "    \"\"\"\n",
        "    Функция для вычисления расстояния Хаверсина (в километрах)\n",
        "\n",
        "    Args:\n",
        "        lat1 и lng1 (array): векторы-столбцы с широтой и долготой первой точки\n",
        "        lat2 и lng2 (array): векторы-столбцы с широтой и долготой второй точки\n",
        "\n",
        "    Returns:\n",
        "        h (float): расстояние между двумя точками на сфере (в километрах)\n",
        "    \"\"\"\n",
        "    # переводим углы в радианы\n",
        "    lat1, lng1, lat2, lng2 = map(np.radians, (lat1, lng1, lat2, lng2))\n",
        "    # радиус земли в километрах\n",
        "    EARTH_RADIUS = 6371\n",
        "    # считаем кратчайшее расстояние h по формуле Хаверсина\n",
        "    lat_delta = lat2 - lat1\n",
        "    lng_delta = lng2 - lng1\n",
        "    d = np.sin(lat_delta * 0.5) ** 2 + np.cos(lat1) * np.cos(lat2) * np.sin(lng_delta * 0.5) ** 2\n",
        "    h = 2 * EARTH_RADIUS * np.arcsin(np.sqrt(d))\n",
        "    return h\n",
        "\n",
        "def get_angle_direction(lat1, lng1, lat2, lng2):\n",
        "    \"\"\"\n",
        "    Функция для вычисления угла направления движения (в градусах)\n",
        "\n",
        "    Args:\n",
        "        lat1 и lng1 (array): векторы-столбцы с широтой и долготой первой точки\n",
        "        lat2 и lng2 (array): векторы-столбцы с широтой и долготой второй точки\n",
        "\n",
        "    Returns:\n",
        "        alpha (float): угол направления движения от первой точки ко второй\n",
        "    \"\"\"\n",
        "    # переводим углы в радианы\n",
        "    lat1, lng1, lat2, lng2 = map(np.radians, (lat1, lng1, lat2, lng2))\n",
        "    # считаем угол направления движения alpha по формуле угла пеленга\n",
        "    lng_delta_rad = lng2 - lng1\n",
        "    y = np.sin(lng_delta_rad) * np.cos(lat2)\n",
        "    x = np.cos(lat1) * np.sin(lat2) - np.sin(lat1) * np.cos(lat2) * np.cos(lng_delta_rad)\n",
        "    alpha = np.degrees(np.arctan2(y, x))\n",
        "    return alpha\n"
      ]
    },
    {
      "cell_type": "markdown",
      "metadata": {
        "id": "XIQZOKhmETYk"
      },
      "source": [
        "### Задание 2.7.\n",
        "Реализуйте функцию add_geographical_features(), которая принимает на вход таблицу с данными о поездках и возвращает обновленную таблицу с добавленными в нее 2 столбцами:\n",
        "* haversine_distance - расстояние Хаверсина между точкой, в которой был включен счетчик, и точкой, в которой счетчик был выключен;\n",
        "* direction - направление движения из точки, в которой был включен счетчик, в точку, в которой счетчик был выключен.\n",
        "\n",
        "Чему равно медианное расстояние Хаверсина поездок (в киллометрах)? Ответ округлите до сотых.\n"
      ]
    },
    {
      "cell_type": "code",
      "execution_count": null,
      "metadata": {
        "id": "XYVk_B4oETYl"
      },
      "outputs": [],
      "source": [
        "# реализуем функцию\n",
        "def add_geographical_features(df):\n",
        "    \"\"\"\n",
        "    Функция добавляющая в таблицу с данными о поездках:\n",
        "        - расстояние Хаверсина\n",
        "        - направление движения\n",
        "\n",
        "    Args:\n",
        "        df (DataFrame): исходный набор данных\n",
        "\n",
        "    Returns:\n",
        "        df (DataFrame): дополненный набор данных\n",
        "    \"\"\"\n",
        "    df['haversine_distance'] = get_haversine_distance(\n",
        "        lat1 = df['pickup_latitude'],\n",
        "        lng1 = df['pickup_longitude'],\n",
        "        lat2 = df['dropoff_latitude'],\n",
        "        lng2 = df['dropoff_longitude']\n",
        "    )\n",
        "    df['direction'] = get_angle_direction(\n",
        "        lat1 = df['pickup_latitude'],\n",
        "        lng1 = df['pickup_longitude'],\n",
        "        lat2 = df['dropoff_latitude'],\n",
        "        lng2 = df['dropoff_longitude']\n",
        "    )\n",
        "    return df\n",
        "\n",
        "taxi_data = add_geographical_features(taxi_data)\n",
        "print(\n",
        "    'Медианное расстояние Хаверсина:',\n",
        "    round(taxi_data['haversine_distance'].median(), 2),\n",
        "    'км'\n",
        ")\n"
      ]
    },
    {
      "cell_type": "markdown",
      "metadata": {
        "id": "i6AZ0RKQETYl"
      },
      "source": [
        "### Задание 2.8.\n",
        "Реализуйте функцию add_cluster_features(), которая принимает на вход таблицу с данными о поездках и обученный алгоритм кластеризации. Функция должна возвращать обновленную таблицу с добавленными в нее столбцом geo_cluster - географический кластер, к которому относится поездка.\n",
        "\n",
        "Сколько поездок содержится в наименьшем по размеру географическом кластере?\n"
      ]
    },
    {
      "cell_type": "code",
      "execution_count": null,
      "metadata": {
        "id": "_MuMGCNiETYl"
      },
      "outputs": [],
      "source": [
        "# создаем обучающую выборку из географических координат всех точек\n",
        "coords = np.hstack((taxi_data[['pickup_latitude', 'pickup_longitude']],\n",
        "                    taxi_data[['dropoff_latitude', 'dropoff_longitude']]))\n",
        "# обучаем алгоритм кластеризации\n",
        "kmeans = cluster.KMeans(n_clusters=10, random_state=42)\n",
        "kmeans.fit(coords)\n",
        "\n",
        "# реализуем функцию\n",
        "def add_cluster_features(df, cluster):\n",
        "    \"\"\"\n",
        "    Функция добавляющая в таблицу с данными о поездках\n",
        "    географический кластер, к которому относится поездка.\n",
        "\n",
        "    Args:\n",
        "        df (DataFrame): исходный набор данных\n",
        "        cluster (KMeans): обученный алгоритм кластеризации\n",
        "\n",
        "    Returns:\n",
        "        df (DataFrame): дополненный набор данных\n",
        "    \"\"\"\n",
        "    df['geo_cluster'] = cluster.predict(df[[\n",
        "        'pickup_latitude',\n",
        "        'pickup_longitude',\n",
        "        'dropoff_latitude',\n",
        "        'dropoff_longitude'\n",
        "    ]])\n",
        "    return df\n",
        "\n",
        "# генерируем новый признак\n",
        "taxi_data = add_cluster_features(taxi_data, kmeans)\n",
        "\n",
        "# проверяем получившиеся кластеры\n",
        "taxi_data['geo_cluster'].value_counts().sort_values(ascending = False)\n",
        "\n"
      ]
    },
    {
      "cell_type": "markdown",
      "metadata": {
        "id": "qhihnbSUETYl"
      },
      "source": [
        "### Задание 2.9.\n",
        "Реализуйте функцию add_weather_features(), которая принимает на вход две таблицы:\n",
        "* таблицу с данными о поездках;\n",
        "* таблицу с данными о погодных условиях на каждый час;\n",
        "\n",
        "и возвращает обновленную таблицу с данными о поездках с добавленными в нее 5 столбцами:\n",
        "* temperature - температура;\n",
        "* visibility - видимость;\n",
        "* wind speed - средняя скорость ветра;\n",
        "* precip - количество осадков;\n",
        "* events - погодные явления.\n",
        "\n",
        "а) Сколько поездок было совершено в снежную погоду?\n",
        "\n",
        "В результате объединения у вас должны получиться записи, для которых в столбцах temperature, visibility, wind speed, precip, и events будут пропуски. Это связано с тем, что в таблице с данными о погодных условиях отсутствуют измерения для некоторых моментов времени, в которых включался счетчик поездки.\n",
        "\n",
        "б) Сколько процентов от общего количества наблюдений в таблице с данными о поездках занимают пропуски в столбцах с погодными условиями? Ответ приведите с точностью до сотых процента.\n"
      ]
    },
    {
      "cell_type": "code",
      "execution_count": null,
      "metadata": {
        "id": "UhHAwzK3ETYm"
      },
      "outputs": [],
      "source": [
        "# загружаем данные о погоде\n",
        "weather_data = pd.read_csv(\"data/weather_data.csv\")\n",
        "# реализуем функцию\n",
        "def add_weather_features(df_taxi, df_weather):\n",
        "    \"\"\"\n",
        "    Функция добавляющая в таблицу с данными о поездках информацию о погоде.\n",
        "\n",
        "    Args:\n",
        "        df_taxi (DataFrame): таблица с данными о поездках\n",
        "        df_weather (DataFrame): таблица с данными о погодных условиях на каждый час\n",
        "\n",
        "    Returns:\n",
        "        df_new (DataFrame): дополненный набор данных\n",
        "    \"\"\"\n",
        "    # извлекаем дату и час, оставляем только нужные данные о погоде\n",
        "    df_weather['time'] = pd.to_datetime(\n",
        "        df_weather['time'],\n",
        "        format = '%Y-%m-%d %H:%M:%S'\n",
        "    )\n",
        "    df_weather['date'] = df_weather['time'].dt.date\n",
        "    df_weather['hour'] = df_weather['time'].dt.hour\n",
        "    df_weather = df_weather[[\n",
        "        'temperature',\n",
        "        'visibility',\n",
        "        'wind speed',\n",
        "        'precip',\n",
        "        'events',\n",
        "        'date',\n",
        "        'hour'\n",
        "    ]]\n",
        "    # объединяем данные\n",
        "    df_merged = df_taxi.merge(\n",
        "        df_weather,\n",
        "        how = 'left',\n",
        "        left_on = ['pickup_date', 'pickup_hour'],\n",
        "        right_on = ['date', 'hour']\n",
        "    )\n",
        "    df_new = df_merged.drop(['date', 'hour'], axis = 1)\n",
        "    return df_new\n",
        "\n",
        "# применяем полученную функцию к таблице\n",
        "taxi_data = add_weather_features(taxi_data, weather_data)\n",
        "\n",
        "mask = taxi_data['events'] == 'Snow'\n",
        "print(taxi_data[mask].shape[0], 'поездок было совершено в снежную погоду')\n",
        "print('-' * 100)\n",
        "cols_null_perc = taxi_data.isnull().mean() * 100\n",
        "cols_with_null = cols_null_perc[\n",
        "    cols_null_perc > 0\n",
        "].sort_values(ascending = False)\n",
        "print('Пропуски в процентах:\\n', round(cols_with_null, 2))\n",
        "\n"
      ]
    },
    {
      "cell_type": "markdown",
      "metadata": {
        "id": "Na9iAX3METYn"
      },
      "source": [
        "## Задание 2.10.\n",
        "Реализуйте функцию fill_null_weather_data(), которая принимает на вход которая принимает на вход таблицу с данными о поездках. Функция должна заполнять пропущенные значения в столбцах.\n",
        "\n",
        "Пропуски в столбцах с погодными условиями -  temperature, visibility, wind speed, precip заполните медианным значением температуры, влажности, скорости ветра и видимости в зависимости от даты начала поездки. Для этого сгруппируйте данные по столбцу pickup_date и рассчитайте медиану в каждой группе, после чего с помощью комбинации методов transform() и fillna() заполните пропуски.\n",
        "Пропуски в столбце events заполните строкой 'None' - символом отсутствия погодных явлений (снега/дождя/тумана).\n",
        "\n",
        "Пропуски в столбцах с информацией из OSRM API - total_distance, total_travel_time и number_of_steps заполните медианным значением по столбцам.\n",
        "\n",
        "Чему равна медиана в столбце temperature после заполнения пропусков? Ответ округлите до десятых.\n"
      ]
    },
    {
      "cell_type": "code",
      "execution_count": null,
      "metadata": {
        "id": "tGDwmapZETYn"
      },
      "outputs": [],
      "source": [
        "# реализуем функцию\n",
        "def fill_null_weather_data(df):\n",
        "    \"\"\"\n",
        "    Функция заполняет пропущенные значения в столбцах.\n",
        "\n",
        "    Args:\n",
        "        df (DataFrame): таблица с данными о поездках\n",
        "\n",
        "    Returns:\n",
        "        df (DataFrame): таблица с заполненными пропусками\n",
        "    \"\"\"\n",
        "    # заполняем пропуски в столбцах с погодными условиями медианным значением\n",
        "    weather_cols = ['temperature', 'visibility', 'wind speed', 'precip']\n",
        "    for col in weather_cols:\n",
        "        df[col] = df[col].fillna(\n",
        "            df.groupby('pickup_date')[col].transform('median')\n",
        "        )\n",
        "    # заполняем пропуски в столбце 'events' строкой 'None'\n",
        "    df['events'] = df['events'].fillna('None')\n",
        "    # заполняем пропуски в столбцах с информацией из OSRM медианным значением\n",
        "    values = {\n",
        "        'total_distance': df['total_distance'].median(),\n",
        "        'total_travel_time': df['total_travel_time'].median(),\n",
        "        'number_of_steps': df['number_of_steps'].median()\n",
        "    }\n",
        "    df = df.fillna(values)\n",
        "    return df\n",
        "\n",
        "# применяем созданную функцию к таблице с данными о поездках\n",
        "taxi_data = fill_null_weather_data(taxi_data)\n",
        "\n",
        "print('Медиана в столбце temperature:', round(taxi_data['temperature'].median(), 1))\n"
      ]
    },
    {
      "cell_type": "markdown",
      "metadata": {
        "id": "_VmYAj9PETYn"
      },
      "source": [
        "В завершение первой части найдем очевидные выбросы в целевой переменной - длительности поездки.\n",
        "\n",
        "Проще всего найти слишком продолжительные поездки. Давайте условимся, что выбросами будут считаться поездки, длительность которых превышает 24 часа.\n",
        "\n",
        "Чуть сложнее с анализом поездок, длительность которых слишком мала. Потому что к ним относятся действительно реальные поездки на короткие расстояния, поездки, которые были отменены через секунду после того как включился счетчик, а также “телепортации” - перемещение на большие расстояния за считанные секунды.\n",
        "Условимся, что мы будем считать выбросами только последнюю группу. Как же нам их обнаружить наиболее простым способом?\n",
        "\n",
        "Можно воспользоваться информацией о кратчайшем расстоянии, которое проезжает такси. Вычислить среднюю скорость автомобиля на кратчайшем пути следующим образом:\n",
        "$$avg\\_speed= \\frac{total\\_distance}{1000*trip\\_duration}*3600$$\n",
        "Если мы построим диаграмму рассеяния средней скорости движения автомобилей, мы увидим следующую картину:\n"
      ]
    },
    {
      "cell_type": "code",
      "execution_count": null,
      "metadata": {
        "id": "zzlCxXY_ETYo"
      },
      "outputs": [],
      "source": [
        "avg_speed = taxi_data['total_distance'] / taxi_data['trip_duration'] * 3.6\n",
        "fig, ax = plt.subplots(figsize=(10, 5))\n",
        "sns.scatterplot(x=avg_speed.index, y=avg_speed, ax=ax)\n",
        "ax.set_xlabel('Index')\n",
        "ax.set_ylabel('Average speed');"
      ]
    },
    {
      "cell_type": "markdown",
      "metadata": {
        "id": "Q21nH-2METYo"
      },
      "source": [
        "Как раз отсюда мы видим, что у нас есть “поездки-телепортации”, для которых средняя скорость более 1000 км/ч. Даже есть такая, средняя скорость которой составляла более 12000 км/ч!\n",
        "\n",
        "Давайте условимся, что предельная средняя скорость, которую могут развивать таксисты будет 300 км/ч.\n"
      ]
    },
    {
      "cell_type": "markdown",
      "metadata": {
        "id": "Y_Ak9PDtETYo"
      },
      "source": [
        "### Задание 2.11.\n",
        "Найдите поездки, длительность которых превышает 24 часа. И удалите их из набора данных.\n",
        "\n",
        "а) Сколько выбросов по признаку длительности поездки вам удалось найти?\n",
        "\n",
        "Найдите поездки, средняя скорость которых по кратчайшему пути превышает 300 км/ч и удалите их из данных.\n",
        "\n",
        "б) Сколько выбросов по признаку скорости вам удалось найти?"
      ]
    },
    {
      "cell_type": "code",
      "execution_count": null,
      "metadata": {
        "id": "8EXlV4VwETYu"
      },
      "outputs": [],
      "source": [
        "print(\n",
        "    'Количество выбросов по признаку длительности поездки:',\n",
        "    taxi_data[taxi_data['trip_duration'] > 86400].shape[0]\n",
        ")\n",
        "print(\n",
        "    'Количество выбросов по признаку скорости:',\n",
        "    avg_speed[avg_speed > 300].shape[0]\n",
        ")\n",
        "\n",
        "mask_1 = taxi_data['trip_duration'] <= 86400\n",
        "mask_2 = (taxi_data['total_distance'] / taxi_data['trip_duration'] * 3.6) <= 300\n",
        "taxi_data = taxi_data[mask_1 & mask_2]\n",
        "\n",
        "\n",
        "\n"
      ]
    },
    {
      "cell_type": "markdown",
      "metadata": {
        "id": "SYP4yAy2ETYv"
      },
      "source": [
        "## 3. Разведывательный анализ данных (EDA)"
      ]
    },
    {
      "cell_type": "markdown",
      "metadata": {
        "id": "PIjlS8VHETYv"
      },
      "source": [
        "В этой части нашего проекта мы с вами:\n",
        "* Исследуем сформированный набор данных;\n",
        "* Попробуем найти закономерности, позволяющие сформулировать предварительные гипотезы относительно того, какие факторы являются решающими в определении длительности поездки;\n",
        "* Дополним наш анализ визуализациями, иллюстрирующими; исследование. Постарайтесь оформлять диаграммы с душой, а не «для галочки»: навыки визуализации полученных выводов обязательно пригодятся вам в будущем.\n"
      ]
    },
    {
      "cell_type": "markdown",
      "metadata": {
        "id": "G7qtsnuBETYw"
      },
      "source": [
        "Начинаем с целевого признака. Забегая вперед, скажем, что основной метрикой качества решения поставленной задачи будет RMSLE - Root Mean Squared Log Error, которая вычисляется на основе целевой переменной в логарифмическом масштабе. В таком случае целесообразно сразу логарифмировать признак длительности поездки и рассматривать при анализе логарифм в качестве целевого признака:\n",
        "$$trip\\_duration\\_log = log(trip\\_duration+1),$$\n",
        "где под символом log подразумевается натуральный логарифм.\n"
      ]
    },
    {
      "cell_type": "code",
      "execution_count": null,
      "metadata": {
        "id": "-bA2nfPtETYw"
      },
      "outputs": [],
      "source": [
        "taxi_data['trip_duration_log'] = np.log(taxi_data['trip_duration']+1)"
      ]
    },
    {
      "cell_type": "markdown",
      "metadata": {
        "id": "UjCUdungETYw"
      },
      "source": [
        "### Задание 3.1.\n",
        "Постройте гистограмму и коробчатую диаграмму длительности поездок в логарифмическом масштабе (trip_duration_log).\n",
        "Исходя из визуализации, сделайте предположение, является ли полученное распределение нормальным?\n",
        "Проверьте свою гипотезу с помощью теста Д’Агостино при уровне значимости $\\alpha=0.05$.\n",
        "\n",
        "а) Чему равен вычисленный p-value? Ответ округлите до сотых.\n",
        "\n",
        "б) Является ли распределение длительности поездок в логарифмическом масштабе нормальным?"
      ]
    },
    {
      "cell_type": "code",
      "execution_count": null,
      "metadata": {
        "id": "X9LXPZ7mETYw"
      },
      "outputs": [],
      "source": [
        "# строим гистограмму и коробчатую диаграмму\n",
        "fig, axes = plt.subplots(nrows = 1, ncols = 2, figsize = (15, 4))\n",
        "histplot = sns.histplot(data = taxi_data, x = 'trip_duration_log', ax = axes[0])\n",
        "histplot.set_title('Trip Duration Logarithmic Distribution')\n",
        "boxplot = sns.boxplot(data = taxi_data, x = 'trip_duration_log', ax = axes[1])\n",
        "boxplot.set_title('Trip Duration Logarithmic Boxplot');\n",
        "\n",
        "# формируем нулевую и альтернативную гипотезы для проверки данных на нормальность\n",
        "H0 = 'Данные распределены нормально'\n",
        "Ha = 'Распределение отлично от нормального'\n",
        "\n",
        "# устанавливаем уровень значимости\n",
        "alpha = 0.05\n",
        "\n",
        "# тест Д'Агостино (возвращает двустороннюю вероятность для проверки гипотезы)\n",
        "_, p = stats.normaltest(taxi_data['trip_duration_log'])\n",
        "print(f'P-value = {round(p, 2)}')\n",
        "\n",
        "# интерпритация полученного результата\n",
        "if p > alpha / 2: # p-value рассчитано для двусторонней гипотезы, поэтому уровень значимости делим на 2\n",
        "    print(H0)\n",
        "else:\n",
        "    print(Ha)"
      ]
    },
    {
      "cell_type": "markdown",
      "metadata": {
        "id": "VspLfU6LETYx"
      },
      "source": [
        "### Задание 3.2.\n",
        "Постройте визуализацию, которая позволит сравнить распределение длительности поездки в логарифмическом масштабе (trip_duration_log) в зависимости от таксопарка (vendor_id).\n",
        "\n",
        "Сравните два распределения между собой."
      ]
    },
    {
      "cell_type": "code",
      "execution_count": null,
      "metadata": {
        "id": "zz1zxqwsETYx"
      },
      "outputs": [],
      "source": [
        "# преобразуем признак vendor_id в категориальный тип данных\n",
        "taxi_data['vendor_id'] = taxi_data['vendor_id'].astype('category')\n",
        "\n",
        "# строим гистограмму и коробчатую диаграмму\n",
        "fig, axes = plt.subplots(nrows = 2, ncols = 1, figsize = (15, 4))\n",
        "histplot = sns.histplot(\n",
        "    data = taxi_data,\n",
        "    x = 'trip_duration_log',\n",
        "    y = 'vendor_id',\n",
        "    ax = axes[0]\n",
        ")\n",
        "histplot.set_title('Logarithmic Trip Duration Dependence on Vendor ID')\n",
        "boxplot = sns.boxplot(\n",
        "    data = taxi_data,\n",
        "    x = 'trip_duration_log',\n",
        "    y = 'vendor_id',\n",
        "    ax = axes[1]\n",
        ");"
      ]
    },
    {
      "cell_type": "markdown",
      "metadata": {
        "id": "gz0-ztw-ETYx"
      },
      "source": [
        "### Задание 3.3.\n",
        "Постройте визуализацию, которая позволит сравнить распределение длительности поездки в логарифмическом масштабе (trip_duration_log) в зависимости от признака отправки сообщения поставщику (store_and_fwd_flag).\n",
        "\n",
        "Сравните два распределения между собой."
      ]
    },
    {
      "cell_type": "code",
      "execution_count": null,
      "metadata": {
        "id": "IiHkBX41ETYx"
      },
      "outputs": [],
      "source": [
        "# на этот раз вместо boxplot построим violinplot\n",
        "fig, axes = plt.subplots(nrows = 2, ncols = 1, figsize = (15, 4))\n",
        "\n",
        "histplot = sns.histplot(\n",
        "    data = taxi_data,\n",
        "    x = 'trip_duration_log',\n",
        "    y = 'store_and_fwd_flag',\n",
        "    ax = axes[0]\n",
        ")\n",
        "histplot.set_title('Logarithmic Trip Duration Dependence on Store and fwd Flag')\n",
        "violinplot = sns.violinplot(\n",
        "    data = taxi_data,\n",
        "    x = 'trip_duration_log',\n",
        "    y = 'store_and_fwd_flag',\n",
        "    ax = axes[1]\n",
        ");"
      ]
    },
    {
      "cell_type": "markdown",
      "metadata": {
        "id": "QPOBjEPsETYy"
      },
      "source": [
        "### Задание 3.4.\n",
        "Постройте две визуализации:\n",
        "* Распределение количества поездок в зависимости от часа дня;\n",
        "* Зависимость медианной длительности поездки от часа дня.\n",
        "\n",
        "На основе построенных графиков ответьте на следующие вопросы:\n",
        "\n",
        "а) В какое время суток такси заказывают реже всего?\n",
        "\n",
        "б) В какое время суток наблюдается пик медианной длительности поездок?"
      ]
    },
    {
      "cell_type": "code",
      "execution_count": null,
      "metadata": {
        "id": "6N_Ni_1iETYy"
      },
      "outputs": [],
      "source": [
        "# группируем данные по часу и рассчитываем медианную длительность поездок\n",
        "duration_by_hour = taxi_data.groupby('pickup_hour')['trip_duration'].median()\n",
        "\n",
        "# строим графики\n",
        "fig, axes = plt.subplots(nrows = 1, ncols = 2, figsize = (15, 4))\n",
        "countplot = sns.countplot(data = taxi_data, x = 'pickup_hour', ax = axes[0])\n",
        "countplot.set_title('Trip Duration Count by Hour')\n",
        "lineplot = sns.lineplot(data = duration_by_hour, ax = axes[1])\n",
        "lineplot.set_title('Trip Duration Median by Hour')\n",
        "lineplot.xaxis.set_ticks(duration_by_hour.index)\n",
        "lineplot.set_ylabel('median');"
      ]
    },
    {
      "cell_type": "markdown",
      "metadata": {
        "id": "LomrU_DzETYy"
      },
      "source": [
        "### Задание 3.5.\n",
        "Постройте две визуализации:\n",
        "* Распределение количества поездок в зависимости от дня недели;\n",
        "*  Зависимость медианной длительности поездки от дня недели.\n",
        "\n",
        "На основе построенных графиков ответьте на следующие вопросы:\n",
        "а) В какой день недели совершается больше всего поездок?\n",
        "б) В какой день недели медианная длительность поездок наименьшая?\n"
      ]
    },
    {
      "cell_type": "code",
      "execution_count": null,
      "metadata": {
        "id": "o-yueSOjETYy"
      },
      "outputs": [],
      "source": [
        "# группируем данные по дню недели и рассчитываем медианную длительность поездок\n",
        "duration_by_day = taxi_data.groupby('pickup_day_of_week')['trip_duration'].median()\n",
        "\n",
        "# строим графики\n",
        "fig, axes = plt.subplots(nrows = 1, ncols = 2, figsize = (15, 4))\n",
        "countplot = sns.countplot(data = taxi_data, x = 'pickup_day_of_week', ax = axes[0])\n",
        "countplot.set_title('Trip Duration Count by Day of Week')\n",
        "lineplot = sns.lineplot(data = duration_by_day, ax = axes[1])\n",
        "lineplot.set_title('Trip Duration Median by Day of Week')\n",
        "lineplot.set_ylabel('median');"
      ]
    },
    {
      "cell_type": "markdown",
      "metadata": {
        "id": "2ZtMRChQETYz"
      },
      "source": [
        "### Задание 3.6.\n",
        "Посмотрим на обе временные характеристики одновременно.\n",
        "\n",
        "Постройте сводную таблицу, по строкам которой отложены часы (pickup_hour), по столбцам - дни недели (pickup_day_of_week), а в ячейках - медианная длительность поездки (trip_duration).\n",
        "\n",
        "Визуализируйте полученную сводную таблицу с помощью тепловой карты (рекомендуемая палитра - coolwarm)."
      ]
    },
    {
      "cell_type": "code",
      "execution_count": null,
      "metadata": {
        "id": "KXvoUApVETYz"
      },
      "outputs": [],
      "source": [
        "# строим сводную таблицу\n",
        "pivot = taxi_data.pivot_table(\n",
        "    values = 'trip_duration',\n",
        "    index = 'pickup_hour',\n",
        "    columns = 'pickup_day_of_week',\n",
        "    aggfunc = 'median'\n",
        ")\n",
        "\n",
        "# визуализируем полученную таблицу\n",
        "fig = plt.figure(figsize = (10, 7))\n",
        "heatmap = sns.heatmap(data = pivot, cmap = 'coolwarm')\n",
        "heatmap.set_title('Длительности поездки в зависимости от временных характеристих');"
      ]
    },
    {
      "cell_type": "markdown",
      "metadata": {
        "id": "cx8V3iCqETYz"
      },
      "source": [
        "### Задание 3.7.\n",
        "Постройте две диаграммы рассеяния (scatter-диаграммы):\n",
        "* первая должна иллюстрировать географическое расположение точек начала поездок (pickup_longitude, pickup_latitude)\n",
        "* вторая должна географическое расположение точек завершения поездок (dropoff_longitude, dropoff_latitude).\n",
        "\n",
        "Для этого на диаграммах по оси абсцисс отложите широту (longitude), а по оси ординат - долготу (latitude).\n",
        "Включите в визуализацию только те точки, которые находятся в пределах Нью-Йорка - добавьте следующие ограничения на границы осей абсцисс и ординат:\n",
        "\n",
        "city_long_border = (-74.03, -73.75)\n",
        "\n",
        "city_lat_border = (40.63, 40.85)\n",
        "\n",
        "Добавьте на диаграммы расцветку по десяти географическим кластерам (geo_cluster), которые мы сгенерировали ранее.\n",
        "\n",
        "**Рекомендация:** для наглядности уменьшите размер точек на диаграмме рассеяния.  \n"
      ]
    },
    {
      "cell_type": "code",
      "execution_count": null,
      "metadata": {
        "id": "-eiIE58VETY0"
      },
      "outputs": [],
      "source": [
        "# ограничения по осям\n",
        "city_long_border = (-74.03, -73.75)\n",
        "city_lat_border = (40.63, 40.85)\n",
        "\n",
        "# строим диаграммы рассеяния\n",
        "fig, axes = plt.subplots(nrows = 1, ncols = 2, figsize = (15, 8))\n",
        "\n",
        "scatter_pickup = sns.scatterplot(\n",
        "    data = taxi_data,\n",
        "    x = 'pickup_longitude',\n",
        "    y = 'pickup_latitude',\n",
        "    hue = 'geo_cluster',\n",
        "    s = 1,\n",
        "    ax = axes[0]\n",
        ")\n",
        "scatter_pickup.set_title('Координаты начала поездок')\n",
        "scatter_pickup.set_xlim(city_long_border)\n",
        "scatter_pickup.set_ylim(city_lat_border)\n",
        "\n",
        "scatter_dropoff = sns.scatterplot(\n",
        "    data = taxi_data,\n",
        "    x = 'dropoff_longitude',\n",
        "    y = 'dropoff_latitude',\n",
        "    hue = 'geo_cluster',\n",
        "    s = 1,\n",
        "    ax = axes[1]\n",
        ")\n",
        "scatter_dropoff.set_title('Координаты завершения поездок')\n",
        "scatter_dropoff.set_xlim(city_long_border)\n",
        "scatter_dropoff.set_ylim(city_lat_border);"
      ]
    },
    {
      "cell_type": "markdown",
      "metadata": {
        "id": "7sx91i9gETY0"
      },
      "source": [
        "## 4. Отбор и преобразование признаков"
      ]
    },
    {
      "cell_type": "markdown",
      "metadata": {
        "id": "V5NYXM8WETY0"
      },
      "source": [
        "Перед тем как перейти к построению модели, осталось сделать ещё несколько шагов.\n",
        "* Следует помнить, что многие алгоритмы машинного обучения не могут обрабатывать категориальные признаки в их обычном виде. Поэтому нам необходимо их закодировать;\n",
        "* Надо отобрать признаки, которые мы будем использовать для обучения модели;\n",
        "*  Необходимо масштабировать и трансформировать некоторые признаки для того, чтобы улучшить сходимость моделей, в основе которых лежат численные методы.\n"
      ]
    },
    {
      "cell_type": "code",
      "execution_count": null,
      "metadata": {
        "id": "07oxK-wnETY0"
      },
      "outputs": [],
      "source": [
        "print('Shape of data: {}'.format(taxi_data.shape))\n",
        "print('Columns: {}'.format(taxi_data.columns))"
      ]
    },
    {
      "cell_type": "markdown",
      "metadata": {
        "id": "6Zp0rffBETY1"
      },
      "source": [
        "Для удобства работы сделаем копию исходной таблицы с поездками:"
      ]
    },
    {
      "cell_type": "code",
      "execution_count": null,
      "metadata": {
        "id": "TiOJ2tlrETY1"
      },
      "outputs": [],
      "source": [
        "train_data = taxi_data.copy()\n",
        "train_data.head()"
      ]
    },
    {
      "cell_type": "markdown",
      "metadata": {
        "id": "mFuH9PZgETY1"
      },
      "source": [
        "## Задание 4.1.\n",
        "Сразу позаботимся об очевидных неинформативных и избыточных признаках.\n",
        "\n",
        "а) Какой из признаков является уникальным для каждой поездки и не несет полезной информации в определении ее продолжительности?\n",
        "\n",
        "б) Утечка данных (data leak) - это…\n",
        "\n",
        "в) Подумайте, наличие какого из признаков в обучающем наборе данных создает утечку данных?\n",
        "\n",
        "г) Исключите выбранные в пунктах а) и в) признаки из исходной таблицы с данными. Сколько столбцов в таблице у вас осталось?\n"
      ]
    },
    {
      "cell_type": "code",
      "execution_count": null,
      "metadata": {
        "id": "32ja4x5LETY1"
      },
      "outputs": [],
      "source": [
        "# исключаем признаки id и dropoff_time из исходной таблицы с данными\n",
        "train_data = train_data.drop(['id', 'dropoff_datetime'], axis = 1)\n",
        "print(f'В таблице осталось {train_data.shape[1]} столбцов')\n",
        "\n",
        "drop_columns = ['pickup_datetime', 'pickup_date']\n",
        "train_data = train_data.drop(drop_columns, axis=1)\n",
        "print('Shape of data:  {}'.format(train_data.shape))\n"
      ]
    },
    {
      "cell_type": "markdown",
      "metadata": {
        "id": "yRY0RKB3ETY2"
      },
      "source": [
        "### Задание 4.2.\n",
        "Закодируйте признак vendor_id в таблице train_data таким образом, чтобы он был равен 0, если идентификатор таксопарка равен 0, и 1 в противном случае.\n",
        "\n",
        "Закодируйте признак store_and_fwd_flag в таблице train_data таким образом, чтобы он был равен 0, если флаг выставлен в значение \"N\", и 0 в противном случае.\n",
        "\n",
        "а) Рассчитайте среднее по закодированному столбцу vendor_id. Ответ приведите с точностью до сотых.\n",
        "\n",
        "б) Рассчитайте среднее по закодированному столбцу store_and_fwd_flag. Ответ приведите с точностью до тысячных.\n",
        "\n"
      ]
    },
    {
      "cell_type": "code",
      "execution_count": null,
      "metadata": {
        "id": "ZaKgnTEnETY2"
      },
      "outputs": [],
      "source": [
        "# кодируем признак vendor_id\n",
        "train_data['vendor_id'] = train_data['vendor_id'].apply(\n",
        "    lambda x: 0 if x == 1 else 1\n",
        ").astype('int')\n",
        "\n",
        "# кодируем признак store_and_fwd_flag\n",
        "train_data['store_and_fwd_flag'] = train_data['store_and_fwd_flag'].apply(\n",
        "    lambda x: 0 if x == 'N' else 1\n",
        ")\n",
        "\n",
        "print(\n",
        "    'Среднее по столбцу vendor_id:',\n",
        "    round(train_data['vendor_id'].mean(), 2)\n",
        ")\n",
        "print(\n",
        "    'Среднее по столбцу store_and_fwd_flag:',\n",
        "    round(train_data['store_and_fwd_flag'].mean(), 3)\n",
        ")\n",
        "\n",
        "\n"
      ]
    },
    {
      "cell_type": "markdown",
      "metadata": {
        "id": "RfCDiJ5xETY3"
      },
      "source": [
        "### Задание 4.3.\n",
        "Создайте таблицу data_onehot из закодированных однократным кодированием признаков pickup_day_of_week, pickup_dropoff_cluster и events в таблице train_data с помощью OneHotEndoder() из библиотеки sklearn. Параметр drop выставите в значение 'first', чтобы удалять первый бинарный столбец, тем самым не создавая излишних признаков.\n",
        "\n",
        "Сколько бинарных столбцов у вас получилось сгенерировать с помощью однократного кодирования?\n"
      ]
    },
    {
      "cell_type": "code",
      "source": [
        "# загружаем библиотеку\n",
        "one_hot_encoder = preprocessing.OneHotEncoder(drop = 'first')\n",
        "\n",
        "# колонки к преобразованию\n",
        "columns_to_change = ['pickup_day_of_week', 'geo_cluster', 'events']\n",
        "\n",
        "# 'учим' кодировщик и сразу кодируем данные\n",
        "data_onehot = one_hot_encoder.fit_transform(\n",
        "    train_data[columns_to_change]\n",
        ").toarray() # результат переводим в массив\n",
        "\n",
        "# получаем закодированные имена столбцов\n",
        "column_names = one_hot_encoder.get_feature_names_out()\n",
        "\n",
        "# составляем DataFrame из закодированных признаков\n",
        "data_onehot = pd.DataFrame(data_onehot, columns = column_names)\n",
        "\n",
        "print('Количество новых бинарных столбцов:', data_onehot.shape[1])"
      ],
      "metadata": {
        "id": "fFukpCF4D2Jf"
      },
      "execution_count": null,
      "outputs": []
    },
    {
      "cell_type": "markdown",
      "source": [
        "Добавим полученную таблицу с закодированными признаками:"
      ],
      "metadata": {
        "id": "XRO4S0pqgwvU"
      }
    },
    {
      "cell_type": "code",
      "source": [
        "\n",
        "\n",
        "train_data = pd.concat(\n",
        "    [train_data.reset_index(drop=True).drop(columns_to_change, axis=1), data_onehot],\n",
        "    axis=1\n",
        ")\n",
        "print('Shape of data: {}'.format(train_data.shape))"
      ],
      "metadata": {
        "id": "v5Ye2WPMglwY"
      },
      "execution_count": null,
      "outputs": []
    },
    {
      "cell_type": "markdown",
      "metadata": {
        "id": "3HGSHN4RETY4"
      },
      "source": [
        "Теперь, когда категориальные признаки предобработаны, сформируем матрицу наблюдений X, вектор целевой переменной y и его логарифм y_log. В матрицу наблюдений войдут все столбцы из таблицы с поездками за исключением целевого признака trip_duration и его логарифмированной версии trip_duration_log:\n"
      ]
    },
    {
      "cell_type": "code",
      "execution_count": null,
      "metadata": {
        "id": "uWqgmhXDETY4"
      },
      "outputs": [],
      "source": [
        "\n",
        "\n",
        "X = train_data.drop(['trip_duration', 'trip_duration_log'], axis=1)\n",
        "y = train_data['trip_duration']\n",
        "y_log = train_data['trip_duration_log']"
      ]
    },
    {
      "cell_type": "markdown",
      "metadata": {
        "id": "tgg8V9uvETY4"
      },
      "source": [
        "Все наши модели мы будем обучать на логарифмированной версии y_log."
      ]
    },
    {
      "cell_type": "markdown",
      "metadata": {
        "id": "KsGlgIn4ETY5"
      },
      "source": [
        "Выбранный тип валидации - hold-out. Разобьем выборку на обучающую и валидационную в соотношении 67/33:"
      ]
    },
    {
      "cell_type": "code",
      "execution_count": null,
      "metadata": {
        "id": "57JEp5GGETY5"
      },
      "outputs": [],
      "source": [
        "X_train, X_valid, y_train_log, y_valid_log = model_selection.train_test_split(\n",
        "    X, y_log,\n",
        "    test_size=0.33,\n",
        "    random_state=42\n",
        ")"
      ]
    },
    {
      "cell_type": "markdown",
      "metadata": {
        "id": "-CAY_UwGETY5"
      },
      "source": [
        "На данный момент у нас достаточно много признаков: скорее всего, не все из них будут важны. Давайте оставим лишь те, которые сильнее всего связаны с целевой переменной и точно будут вносить вклад в повышение качества модели.\n"
      ]
    },
    {
      "cell_type": "markdown",
      "metadata": {
        "id": "ojlIx3WXETY5"
      },
      "source": [
        "## Задание 4.4.\n",
        "С помощью SelectKBest отберите 25 признаков, наилучшим образом подходящих для предсказания целевой переменной в логарифмическом масштабе. Отбор реализуйте по обучающей выборке, используя параметр score_func = f_regression.\n",
        "\n",
        "Укажите признаки, которые вошли в список отобранных\n"
      ]
    },
    {
      "cell_type": "code",
      "execution_count": null,
      "metadata": {
        "id": "SDw_0B7bETY6"
      },
      "outputs": [],
      "source": [
        "# отбираем признаки\n",
        "selector = feature_selection.SelectKBest(\n",
        "    score_func = feature_selection.f_regression,\n",
        "    k = 25\n",
        ")\n",
        "selector.fit(X_train, y_train_log)\n",
        "\n",
        "# оставляем только полученные 25 признаков\n",
        "best_features = selector.get_feature_names_out()\n",
        "X_train = X_train[best_features]\n",
        "X_valid = X_valid[best_features]\n",
        "print('Признаки, которые вошли в список отобранных:\\n', best_features)\n",
        "\n",
        "\n",
        "\n",
        "\n",
        "\n",
        "\n",
        "\n",
        "\n",
        "\n",
        "\n",
        "\n",
        "\n",
        "\n",
        "\n",
        "\n"
      ]
    },
    {
      "cell_type": "markdown",
      "metadata": {
        "id": "tVwcfzVlETY6"
      },
      "source": [
        "Так как мы будем использовать различные модели, в том числе внутри которых заложены численные методы оптимизации, то давайте заранее позаботимся о масштабировании факторов.\n"
      ]
    },
    {
      "cell_type": "markdown",
      "metadata": {
        "id": "DpKf_ze8ETY6"
      },
      "source": [
        "### Задание 4.5.\n",
        "Нормализуйте предикторы в обучающей и валидационной выборках с помощью MinMaxScaler из библиотеки sklearn. Помните, что обучение нормализатора производится на обучающей выборке, а трансформация на обучающей и валидационной!\n",
        "\n",
        "Рассчитайте среднее арифметическое для первого предиктора (т. е. для первого столбца матрицы) из валидационной выборки. Ответ округлите до сотых.\n"
      ]
    },
    {
      "cell_type": "code",
      "execution_count": null,
      "metadata": {
        "id": "L53KiiK2ETY6"
      },
      "outputs": [],
      "source": [
        "# инициализируем нормализатор MinMaxScaler\n",
        "mm_scaler = preprocessing.MinMaxScaler()\n",
        "\n",
        "# преобразовываем данные\n",
        "X_train = mm_scaler.fit_transform(X_train)\n",
        "X_valid = mm_scaler.transform(X_valid)\n",
        "\n",
        "print(\n",
        "    'Среднее арифметическое для первого предиктора из валидационной выборки:',\n",
        "    np.round(np.mean(X_valid[:, 0]), 2)\n",
        ")\n",
        "\n",
        "# составляем DataFrame из массивов\n",
        "X_train = pd.DataFrame(X_train, columns = best_features)\n",
        "X_valid = pd.DataFrame(X_valid, columns = best_features)"
      ]
    },
    {
      "cell_type": "markdown",
      "metadata": {
        "id": "SZW0C4ZXETY7"
      },
      "source": [
        "## 5. Решение задачи регрессии: линейная регрессия и деревья решений"
      ]
    },
    {
      "cell_type": "markdown",
      "metadata": {
        "id": "id-26Kc_ETY7"
      },
      "source": [
        "Определим метрику, по которой мы будем измерять качество наших моделей. Мы будем следовать канонам исходного соревнования на Kaggle и в качестве метрики использовать RMSLE (Root Mean Squared Log Error), которая вычисляется как:\n",
        "$$RMSLE = \\sqrt{\\frac{1}{n}\\sum_{i=1}^n(log(y_i+1)-log(\\hat{y_i}+1))^2},$$\n",
        "где:\n",
        "* $y_i$ - истинная длительность i-ой поездки на такси (trip_duration)\n",
        "* $\\hat{y_i}$- предсказанная моделью длительность i-ой поездки на такси\n",
        "\n",
        "Заметим, что логарифмирование целевого признака мы уже провели заранее, поэтому нам будет достаточно вычислить метрику RMSE для модели, обученной прогнозировать длительность поездки такси в логарифмическом масштабе:\n",
        "$$z_i=log(y_i+1),$$\n",
        "$$RMSLE = \\sqrt{\\frac{1}{n}\\sum_{i=1}^n(z_i-\\hat{z_i})^2}=\\sqrt{MSE(z_i,\\hat{z_i})}$$\n",
        "\n"
      ]
    },
    {
      "cell_type": "markdown",
      "metadata": {
        "id": "TdhYDO2nETY7"
      },
      "source": [
        "### Задание 5.1.\n",
        "Постройте модель линейной регрессии на обучающей выборке (факторы должны быть нормализованы, целевую переменную используйте в логарифмическом масштабе). Все параметры оставьте по умолчанию.\n",
        "\n",
        "Для полученной модели рассчитайте метрику RMSLE на тренировочной и валидационной выборках. Ответ округлите до сотых.\n"
      ]
    },
    {
      "cell_type": "code",
      "execution_count": null,
      "metadata": {
        "id": "u_yy16O3ETY7"
      },
      "outputs": [],
      "source": [
        "# создаём объект класса LinearRegression\n",
        "lr_model = linear_model.LinearRegression()\n",
        "\n",
        "# обучаем модель - ищем параметры МНК\n",
        "lr_model.fit(X_train, y_train_log)\n",
        "\n",
        "# делаем предсказания\n",
        "y_train_pred = lr_model.predict(X_train)\n",
        "y_valid_pred = lr_model.predict(X_valid)\n",
        "\n",
        "# рассчитываем RMSLE\n",
        "print(\n",
        "    'RMSE на тренировочной выборке:',\n",
        "    round(np.sqrt(metrics.mean_squared_error(y_train_log, y_train_pred)), 2)\n",
        ")\n",
        "print(\n",
        "    'RMSE на валидационной выборке:',\n",
        "    round(np.sqrt(metrics.mean_squared_error(y_valid_log, y_valid_pred)), 2)\n",
        ")"
      ]
    },
    {
      "cell_type": "markdown",
      "metadata": {
        "id": "pONatw4YETY8"
      },
      "source": [
        "### Задание 5.2.\n",
        "Сгенерируйте полиномиальные признаки 2-ой степени с помощью PolynomialFeatures из библиотеки sklearn. Параметр include_bias выставите в значение False.\n",
        "\n",
        "Постройте модель полиномиальной регрессии 2-ой степени на обучающей выборке (факторы должны быть нормализованы, целевую переменную используйте в логарифмическом масштабе). Все параметры оставьте по умолчанию.\n",
        "\n",
        "а) Для полученной модели рассчитайте метрику RMSLE на тренировочной и валидационной выборках. Ответ округлите до сотых.\n",
        "\n",
        "б) Наблюдаются ли у вашей модели признаки переобучения?\n"
      ]
    },
    {
      "cell_type": "code",
      "execution_count": null,
      "metadata": {
        "id": "UdXrxF6vETY8",
        "collapsed": true
      },
      "outputs": [],
      "source": [
        "# создаём генератор полиномиальных признаков\n",
        "poly = preprocessing.PolynomialFeatures(degree = 2, include_bias = False)\n",
        "poly.fit(X_train)\n",
        "\n",
        "# генерируем полиномиальные признаки\n",
        "X_train_poly = poly.transform(X_train)\n",
        "X_valid_poly = poly.transform(X_valid)\n",
        "\n",
        "# строим модель полиномиальной регрессии\n",
        "lr_poly = linear_model.LinearRegression()\n",
        "lr_poly.fit(X_train_poly, y_train_log)\n",
        "y_train_pred = lr_poly.predict(X_train_poly)\n",
        "y_valid_pred = lr_poly.predict(X_valid_poly)\n",
        "\n",
        "# рассчитываем RMSLE\n",
        "print(\n",
        "    'RMSE на тренировочной выборке:',\n",
        "    round(np.sqrt(metrics.mean_squared_error(y_train_log, y_train_pred)), 2)\n",
        ")\n",
        "print(\n",
        "    'RMSE на валидационной выборке:',\n",
        "    round(np.sqrt(metrics.mean_squared_error(y_valid_log, y_valid_pred)), 2)\n",
        ")"
      ]
    },
    {
      "cell_type": "markdown",
      "metadata": {
        "id": "FilIUK4sETY8"
      },
      "source": [
        "### Задание 5.3.\n",
        "Постройте модель полиномиальной регрессии 2-ой степени с L2-регуляризацией (регуляризация по Тихонову) на обучающей выборке  (факторы должны быть нормализованы, целевую переменную используйте в логарифмическом масштабе). Коэффициент регуляризации $\\alpha установите равным 1, остальные параметры оставьте по умолчанию.\n",
        "\n",
        "Для полученной модели рассчитайте метрику RMSLE на тренировочной и валидационной выборках. Ответ округлите до сотых.\n"
      ]
    },
    {
      "cell_type": "code",
      "execution_count": null,
      "metadata": {
        "id": "yTeNk2EMETY9"
      },
      "outputs": [],
      "source": [
        "# создаём объект класса линейной регрессии с L2-регуляризацией\n",
        "lr_ridge = linear_model.Ridge(alpha = 1)\n",
        "\n",
        "# обучаем модель\n",
        "lr_ridge.fit(X_train_poly, y_train_log)\n",
        "\n",
        "# делаем предсказания\n",
        "y_train_pred = lr_ridge.predict(X_train_poly)\n",
        "y_valid_pred = lr_ridge.predict(X_valid_poly)\n",
        "\n",
        "# рассчитываем RMSLE\n",
        "print(\n",
        "    'RMSE на тренировочной выборке:',\n",
        "    round(np.sqrt(metrics.mean_squared_error(y_train_log, y_train_pred)), 2)\n",
        ")\n",
        "print(\n",
        "    'RMSE на валидационной выборке:',\n",
        "    round(np.sqrt(metrics.mean_squared_error(y_valid_log, y_valid_pred)), 2)\n",
        ")"
      ]
    },
    {
      "cell_type": "markdown",
      "metadata": {
        "id": "sB86nBw7ETY9"
      },
      "source": [
        "### Задание 5.4.\n",
        "Постройте модель дерева решений (DecisionTreeRegressor) на обучающей выборке (факторы должны быть нормализованы, целевую переменную используйте в логарифмическом масштабе). Все параметры оставьте по умолчанию.\n",
        "\n",
        "а) Для полученной модели рассчитайте метрику RMSLE на тренировочной и валидационной выборках. Ответ округлите до сотых.\n",
        "\n",
        "б) Наблюдаются ли у вашей модели признаки переобучения?\n"
      ]
    },
    {
      "cell_type": "code",
      "execution_count": null,
      "metadata": {
        "id": "VjlAO0LyETY9"
      },
      "outputs": [],
      "source": [
        "# строим модель дерева решений\n",
        "dt_reg = tree.DecisionTreeRegressor(random_state = 42)\n",
        "dt_reg.fit(X_train, y_train_log)\n",
        "\n",
        "# делаем предсказания\n",
        "y_train_pred = dt_reg.predict(X_train)\n",
        "y_valid_pred = dt_reg.predict(X_valid)\n",
        "\n",
        "# рассчитываем RMSLE\n",
        "print(\n",
        "    'RMSE на тренировочной выборке:',\n",
        "    round(np.sqrt(metrics.mean_squared_error(y_train_log, y_train_pred)), 2)\n",
        ")\n",
        "print(\n",
        "    'RMSE на валидационной выборке:',\n",
        "    round(np.sqrt(metrics.mean_squared_error(y_valid_log, y_valid_pred)), 2)\n",
        ")\n"
      ]
    },
    {
      "cell_type": "markdown",
      "metadata": {
        "id": "NR9J5VNSETY9"
      },
      "source": [
        "### Задание 5.5.\n",
        "Переберите все возможные варианты глубины дерева решений в диапазоне от 7 до 20:\n",
        "\n",
        "max_depths = range(7, 20)\n",
        "\n",
        "Постройте линейные графики изменения метрики RMSE на тренировочной и валидационной выборках в зависимости от значения параметра глубины дерева решений.\n",
        "\n",
        "а) Найдите оптимальное значение максимальной глубины дерева, для которой будет наблюдаться минимальное значение RMSLE на обучающей выборке, но при этом еще не будет наблюдаться переобучение (валидационная кривая еще не начинает возрастать).\n",
        "\n",
        "б) Чему равно значение метрик RMSLE на тренировочной и валидационной выборках для дерева решений с выбранной оптимальной глубиной? Ответ округлите до сотых.\n"
      ]
    },
    {
      "cell_type": "code",
      "execution_count": null,
      "metadata": {
        "id": "TaCYkp1YETY-"
      },
      "outputs": [],
      "source": [
        "# создаём список из 13 возможных значений от 7 до 20\n",
        "max_depths = range(7, 20)\n",
        "\n",
        "# создаём пустые списки, в которые будем добавлять результаты\n",
        "train_scores = []\n",
        "valid_scores = []\n",
        "\n",
        "for depth in max_depths:\n",
        "    # создаём объект класса DecisionTreeRegressor\n",
        "    dt_reg = tree.DecisionTreeRegressor(max_depth = depth, random_state = 42)\n",
        "    # обучаем модель\n",
        "    dt_reg.fit(X_train, y_train_log)\n",
        "    # делаем предсказание для тренировочной выборки\n",
        "    y_train_pred = dt_reg.predict(X_train)\n",
        "    # делаем предсказание для валидационной выборки\n",
        "    y_valid_pred = dt_reg.predict(X_valid)\n",
        "    # рассчитываем RMSLE для двух выборок и добавляем их в списки\n",
        "    train_scores.append(\n",
        "        np.sqrt(metrics.mean_squared_error(y_train_log, y_train_pred))\n",
        "    )\n",
        "    valid_scores.append(\n",
        "        np.sqrt(metrics.mean_squared_error(y_valid_log, y_valid_pred))\n",
        "    )\n",
        "\n",
        "# визуализируем изменения RMSLE в зависимости от max_depth\n",
        "fig, ax = plt.subplots(figsize = (12, 4))          # фигура + координатная плоскость\n",
        "ax.plot(max_depths, train_scores, label = 'Train') # линейный график для тренировочной выборки\n",
        "ax.plot(max_depths, valid_scores, label = 'Valid') # линейный график для валидационной выборки\n",
        "ax.set_xlabel('max_depth')                         # название оси абсцисс\n",
        "ax.set_ylabel('RMSLE')                             # название оси ординат\n",
        "ax.set_xticks(max_depths)                          # метки на оси абсцисс\n",
        "ax.legend();                                       # отображение легенды\n",
        "\n",
        "# извлекаем индекс лучшего RMSLE на валидационной выборке\n",
        "best_index = valid_scores.index(min(valid_scores))\n",
        "print('Оптимальная глубина дерева решений:', max_depths[best_index])\n",
        "print('RMSLE на тренировочной выборке:', round(train_scores[best_index], 2))\n",
        "print('RMSLE на валидационной выборке:', round(valid_scores[best_index], 2))"
      ]
    },
    {
      "cell_type": "markdown",
      "metadata": {
        "id": "t1wwMoxuETY-"
      },
      "source": [
        "## 6. Решение задачи регрессии: ансамблевые методы и построение прогноза"
      ]
    },
    {
      "cell_type": "markdown",
      "metadata": {
        "id": "ICuMEaUoETY-"
      },
      "source": [
        "Переходим к тяжелой артиллерии: ансамблевым алгоритмам."
      ]
    },
    {
      "cell_type": "markdown",
      "metadata": {
        "id": "bvxQTjQrETY_"
      },
      "source": [
        "### Задание 6.1.\n",
        "\n",
        "Постройте модель случайного леса на обучающей выборке (факторы должны быть нормализованы, целевую переменную используйте в логарифмическом масштабе). В качестве гиперпараметров укажите следующие:\n",
        "* n_estimators=200,\n",
        "* max_depth=12,\n",
        "* criterion='squared_error',\n",
        "* min_samples_split=20,\n",
        "* random_state=42\n",
        "\n",
        "Для полученной модели рассчитайте метрику RMSLE на тренировочной и валидационной выборках. Ответ округлите до сотых.\n"
      ]
    },
    {
      "cell_type": "code",
      "execution_count": null,
      "metadata": {
        "id": "1-Bh-cFqETY_"
      },
      "outputs": [],
      "source": [
        "# создаём объект класса RandomForestRegressor\n",
        "rf_reg = ensemble.RandomForestRegressor(\n",
        "    n_estimators = 200,\n",
        "    max_depth = 12,\n",
        "    criterion = 'squared_error',\n",
        "    min_samples_split = 20,\n",
        "    random_state = 42,\n",
        "    n_jobs = -1\n",
        ")\n",
        "\n",
        "# обучаем модель\n",
        "rf_reg.fit(X_train, y_train_log)\n",
        "\n",
        "# делаем предсказания\n",
        "y_train_pred = rf_reg.predict(X_train)\n",
        "y_valid_pred = rf_reg.predict(X_valid)\n",
        "\n",
        "# рассчитываем RMSLE\n",
        "print(\n",
        "    'RMSLE на тренировочной выборке:',\n",
        "    round(np.sqrt(metrics.mean_squared_error(y_train_log, y_train_pred)), 2)\n",
        ")\n",
        "print(\n",
        "    'RMSLE на валидационной выборке:',\n",
        "    round(np.sqrt(metrics.mean_squared_error(y_valid_log, y_valid_pred)), 2)\n",
        ")"
      ]
    },
    {
      "cell_type": "markdown",
      "metadata": {
        "id": "4tuYRtXwETY_"
      },
      "source": [
        "### Задание 6.2.\n",
        "Постройте модель градиентного бустинга над деревьями решений (GradientBoostingRegressor) на обучающей выборке (факторы должны быть нормализованы, целевую переменную используйте в логарифмическом масштабе). В качестве гиперпараметров укажите следующие:\n",
        "* learning_rate=0.5,\n",
        "* n_estimators=100,\n",
        "* max_depth=6,\n",
        "* min_samples_split=30,\n",
        "* random_state=42\n",
        "\n",
        "Для полученной модели рассчитайте метрику RMSLE на тренировочной и валидационной выборках. Ответ округлите до сотых.\n"
      ]
    },
    {
      "cell_type": "code",
      "execution_count": null,
      "metadata": {
        "id": "-M99aFn2ETZA"
      },
      "outputs": [],
      "source": [
        "# создаём объект класса GradientBoostingRegressor\n",
        "gb_reg = ensemble.GradientBoostingRegressor(\n",
        "    learning_rate = 0.5,\n",
        "    n_estimators = 100,\n",
        "    max_depth = 6,\n",
        "    min_samples_split = 30,\n",
        "    random_state = 42\n",
        ")\n",
        "\n",
        "# обучаем модель\n",
        "gb_reg.fit(X_train, y_train_log)\n",
        "\n",
        "# делаем предсказания\n",
        "y_train_pred = gb_reg.predict(X_train)\n",
        "y_valid_pred = gb_reg.predict(X_valid)\n",
        "\n",
        "# рассчитываем RMSLE\n",
        "print(\n",
        "    'RMSLE на тренировочной выборке:',\n",
        "    round(np.sqrt(metrics.mean_squared_error(y_train_log, y_train_pred)), 2)\n",
        ")\n",
        "print(\n",
        "    'RMSLE на валидационной выборке:',\n",
        "    round(np.sqrt(metrics.mean_squared_error(y_valid_log, y_valid_pred)), 2)\n",
        ")\n"
      ]
    },
    {
      "cell_type": "markdown",
      "metadata": {
        "id": "SyFjdrFwETZA"
      },
      "source": [
        "### Задание 6.3.\n",
        "Какая из построенных вами моделей показала наилучший результат (наименьшее значение RMSLE на валидационной выборке)?\n",
        "* Линейная регрессия\n",
        "* Полиномиальная регрессия 2ой степени\n",
        "* Дерево решений\n",
        "* Случайный лес\n",
        "* Градиентный бустинг над деревьями решений\n"
      ]
    },
    {
      "cell_type": "code",
      "source": [
        "score_data = pd.DataFrame({\n",
        "    'models': ['Линейная регрессия', 'Полиномиальная регрессия', 'Ридж-регрессия', 'Дерево решений',\n",
        "               'Модель случайного леса', 'Градиентный бустинг'],\n",
        "    'Train RMSLE': [0.53, 0.46, 0.47, 0.41, 0.40, 0.37],\n",
        "    'Valid RMSLE': [0.53, 0.72, 0.48, 0.43, 0.41, 0.39]\n",
        "    })\n",
        "score_data.style.highlight_between(subset='Valid RMSLE', left=0.30, right=0.40, color='yellowgreen').format(precision=2)"
      ],
      "metadata": {
        "id": "zxi46FccmxSP"
      },
      "execution_count": null,
      "outputs": []
    },
    {
      "cell_type": "markdown",
      "metadata": {
        "id": "p5zvrXlFETZA"
      },
      "source": [
        "### Задание 6.4.\n",
        "Постройте столбчатую диаграмму коэффициентов значимости каждого из факторов.\n",
        "\n",
        "Укажите топ-3 наиболее значимых для предсказания целевого признака - длительности поездки в логарифмическом масштабе - факторов.\n"
      ]
    },
    {
      "cell_type": "code",
      "execution_count": null,
      "metadata": {
        "id": "eDx_YX3QETZA"
      },
      "outputs": [],
      "source": [
        "fig, ax = plt.subplots(figsize = (13, 5)) # фигура + координатная плоскость\n",
        "features = X_train.columns                # признаки\n",
        "importances = gb_reg.feature_importances_ # важность признаков\n",
        "\n",
        "# строим столбчатую диаграмму\n",
        "sns.barplot(x = features, y = importances, ax = ax)\n",
        "ax.set_title('Bar plot feature importances') # название графика\n",
        "ax.set_ylabel('Importance')                  # название оси ординат\n",
        "ax.xaxis.set_tick_params(rotation = 90)      # поворот меток на оси абсцисс"
      ]
    },
    {
      "cell_type": "markdown",
      "metadata": {
        "id": "6gw_T3yeETZB"
      },
      "source": [
        "### Задание 6.5.\n",
        "Для лучшей из построенных моделей рассчитайте медианную абсолютную ошибку (MeAE - в sklearn функция median_absolute_error) предсказания длительности поездки такси на валидационной выборке:\n",
        "$$ MeAE = median(|y_i-\\hat{y_i}|)$$\n",
        "\n",
        "Значение метрики MeAE переведите в минуты и округлите до десятых.\n"
      ]
    },
    {
      "cell_type": "code",
      "execution_count": null,
      "metadata": {
        "id": "Dffl6gHXETZB"
      },
      "outputs": [],
      "source": [
        "# переводим из логарифимического маштаба в изначальный\n",
        "y_valid = np.exp(y_valid_log) - 1\n",
        "y_valid_pred_exp = np.exp(y_valid_pred) - 1\n",
        "\n",
        "# рассчитываем медианную абсолютную ошибку\n",
        "meae_valid = metrics.median_absolute_error(y_valid, y_valid_pred_exp)\n",
        "\n",
        "# переводим значение метрики в минуты и округляем\n",
        "print('MeAE на валидационной выборке:', round(meae_valid / 60, 1), 'мин')"
      ]
    },
    {
      "cell_type": "markdown",
      "metadata": {
        "id": "VeZsIOoAETZB"
      },
      "source": [
        "Финальный шаг - сделать submit -  предсказание для отложенного тестового набора данных."
      ]
    },
    {
      "cell_type": "markdown",
      "metadata": {
        "id": "yA1QyNevETZB"
      },
      "source": [
        "Прочитаем тестовые данные и заранее выделим столбец с идентификаторами поездок из тестового набора данных. Он нам еще пригодится:\n"
      ]
    },
    {
      "cell_type": "code",
      "execution_count": null,
      "metadata": {
        "id": "_cBoJ9C-ETZB"
      },
      "outputs": [],
      "source": [
        "test_data = pd.read_csv(\"data/Project5_test_data.zip\")\n",
        "osrm_data_test = pd.read_csv(\"data/Project5_osrm_data_test.zip\")\n",
        "test_id = test_data['id']"
      ]
    },
    {
      "cell_type": "markdown",
      "metadata": {
        "id": "s8JKxFOKETZB"
      },
      "source": [
        "Перед созданием прогноза для тестовой выборки необходимо произвести все манипуляции с данными, которые мы производили с тренировочной выборкой, а именно:\n",
        "* Перевести признак pickup_datetime в формат datetime;\n",
        "* Добавить новые признаки (временные, географические, погодные и другие факторы);\n",
        "* Произвести очистку данных от пропусков;\n",
        "* Произвести кодировку категориальных признаков:\n",
        "    * Закодировать бинарные признаки;\n",
        "    * Закодировать номинальные признаки с помощью обученного на тренировочной выборке OneHotEncoder’а;\n",
        "* Сформировать матрицу наблюдений, оставив в таблице только те признаки, которые были отобраны с помощью SelectKBest;\n",
        "* Нормализовать данные с помощью обученного на тренировочной выборке MinMaxScaler’а.\n"
      ]
    },
    {
      "cell_type": "code",
      "execution_count": null,
      "metadata": {
        "id": "vNGDLkXuETZC"
      },
      "outputs": [],
      "source": [
        "test_data['pickup_datetime']=pd.to_datetime(test_data['pickup_datetime'],format='%Y-%m-%d %H:%M:%S')\n",
        "test_data = add_datetime_features(test_data)\n",
        "test_data = add_holiday_features(test_data, holiday_data)\n",
        "test_data = add_osrm_features(test_data, osrm_data_test)\n",
        "test_data = add_geographical_features(test_data)\n",
        "test_data = add_cluster_features(test_data, kmeans)\n",
        "test_data = add_weather_features(test_data, weather_data)\n",
        "test_data = fill_null_weather_data(test_data)\n",
        "\n",
        "test_data['vendor_id'] = test_data['vendor_id'].apply(lambda x: 0 if x == 1 else 1)\n",
        "test_data['store_and_fwd_flag'] = test_data['store_and_fwd_flag'].apply(lambda x: 0 if x == 'N' else 1)\n",
        "test_data_onehot = one_hot_encoder.fit_transform(test_data[columns_to_change]).toarray()\n",
        "column_names = one_hot_encoder.get_feature_names_out(columns_to_change)\n",
        "test_data_onehot = pd.DataFrame(test_data_onehot, columns=column_names)\n",
        "\n",
        "test_data = pd.concat(\n",
        "    [test_data.reset_index(drop=True).drop(columns_to_change, axis=1), test_data_onehot],\n",
        "    axis=1\n",
        ")\n",
        "X_test = test_data[best_features]\n",
        "X_test_scaled = mm_scaler.transform(X_test)\n",
        "print('Shape of data: {}'.format(X_test.shape))"
      ]
    },
    {
      "cell_type": "markdown",
      "metadata": {
        "id": "wQu3zsHsETZC"
      },
      "source": [
        "Только после выполнения всех этих шагов можно сделать предсказание длительности поездки для тестовой выборки. Не забудьте перевести предсказания из логарифмического масштаба в истинный, используя формулу:\n",
        "$$y_i=exp(z_i)-1$$\n",
        "\n",
        "После того, как вы сформируете предсказание длительности поездок на тестовой выборке вам необходимо будет создать submission-файл в формате csv, отправить его на платформу Kaggle и посмотреть на результирующее значение метрики RMSLE на тестовой выборке.\n",
        "\n",
        "Код для создания submission-файла:\n"
      ]
    },
    {
      "cell_type": "code",
      "execution_count": null,
      "metadata": {
        "id": "3Lp7QOkTETZD"
      },
      "outputs": [],
      "source": [
        "# делаем предсказание для тестовой выборки\n",
        "y_test_pred_log = gb_reg.predict(X_test_scaled)\n",
        "\n",
        "# переводим предсказания из логарифмического маштаба в истинный\n",
        "y_test_predict = np.exp(y_test_pred_log) - 1\n",
        "\n",
        "# создаём submission-файл\n",
        "submission = pd.DataFrame({'id': test_id, 'trip_duration': y_test_predict})\n",
        "submission.to_csv('Documents/submission_gb.csv', index=False)"
      ]
    },
    {
      "cell_type": "markdown",
      "metadata": {
        "id": "YHa_lWgjETZD"
      },
      "source": [
        "### **В качестве бонуса**\n",
        "\n",
        "В завершение по ансамблевым мы предлагаем вам попробовать улучшить свое предсказание, воспользовавшись моделью экстремального градиентного бустинга (XGBoost) из библиотеки xgboost.\n",
        "\n",
        "**XGBoost** - современная модель машинного обучения, которая является продолжением идеи градиентного бустинга Фридмана. У нее есть несколько преимуществ по сравнению с классической моделью градиентного бустинга из библиотеки sklearn: повышенная производительность путем параллелизации процесса обучения, повышенное качество решения за счет усовершенствования алгоритма бустинга, меньшая склонность к переобучению и широкий функционал возможности управления параметрами модели.\n"
      ]
    },
    {
      "cell_type": "markdown",
      "metadata": {
        "id": "gncLEFEVETZD"
      },
      "source": [
        "Для ее использования необходимо для начала установить пакет xgboost:"
      ]
    },
    {
      "cell_type": "code",
      "execution_count": null,
      "metadata": {
        "id": "LRr79EvpETZD"
      },
      "outputs": [],
      "source": [
        "#!pip install xgboost\n",
        "catboost"
      ]
    },
    {
      "cell_type": "markdown",
      "metadata": {
        "id": "DnhjliU7ETZD"
      },
      "source": [
        "После чего модуль можно импортировать:"
      ]
    },
    {
      "cell_type": "code",
      "execution_count": null,
      "metadata": {
        "id": "TMfAwxD1ETZD"
      },
      "outputs": [],
      "source": [
        "import xgboost as xgb"
      ]
    },
    {
      "cell_type": "markdown",
      "metadata": {
        "id": "L9rlfnVgETZE"
      },
      "source": [
        "Перед обучением модели необходимо перевести наборы данных в тип данных xgboost.DMatrix:"
      ]
    },
    {
      "cell_type": "code",
      "execution_count": null,
      "metadata": {
        "id": "Qm4agvMEETZE"
      },
      "outputs": [],
      "source": [
        "# Создание матриц наблюдений в формате DMatrix\n",
        "dtrain = xgb.DMatrix(X_train_scaled, label=y_train_log, feature_names=best_features)\n",
        "dvalid = xgb.DMatrix(X_valid_scaled, label=y_valid_log, feature_names=best_features)\n",
        "dtest = xgb.DMatrix(X_test_scaled, feature_names=best_features)"
      ]
    },
    {
      "cell_type": "markdown",
      "metadata": {
        "id": "SuZDx6bxETZE"
      },
      "source": [
        "Обучение модели XGBoost происходит с помощью метода train, в который необходимо передать параметры модели, набор данных, количество базовых моделей в ансамбле, а также дополнительные параметры:\n"
      ]
    },
    {
      "cell_type": "code",
      "execution_count": null,
      "metadata": {
        "id": "vpQbrsCVETZE"
      },
      "outputs": [],
      "source": [
        "# Гиперпараметры модели\n",
        "xgb_pars = {'min_child_weight': 20, 'eta': 0.1, 'colsample_bytree': 0.9,\n",
        "            'max_depth': 6, 'subsample': 0.9, 'lambda': 1, 'nthread': -1,\n",
        "            'booster' : 'gbtree', 'eval_metric': 'rmse', 'objective': 'reg:squarederror'\n",
        "           }\n",
        "# Тренировочная и валидационная выборка\n",
        "watchlist = [(dtrain, 'train'), (dvalid, 'valid')]\n",
        "# Обучаем модель XGBoost\n",
        "model = xgb.train(\n",
        "    params=xgb_pars, #гиперпараметры модели\n",
        "    dtrain=dtrain, #обучающая выборка\n",
        "    num_boost_round=300, #количество моделей в ансамбле\n",
        "    evals=watchlist, #выборки, на которых считается матрица\n",
        "    early_stopping_rounds=20, #раняя остановка\n",
        "    maximize=False, #смена поиска максимума на минимум\n",
        "    verbose_eval=10 #шаг, через который происходит отображение метрик\n",
        ")"
      ]
    },
    {
      "cell_type": "markdown",
      "metadata": {
        "id": "JSwjC5iaETZF"
      },
      "source": [
        "Предсказать целевой признак на новых данных можно с помощью метода predict():"
      ]
    },
    {
      "cell_type": "code",
      "execution_count": null,
      "metadata": {
        "id": "xM_qPBfdETZF"
      },
      "outputs": [],
      "source": [
        "#Делаем предсказание на тестовом наборе данных\n",
        "y_test_predict = np.exp(model.predict(dtest)) - 1\n",
        "print('Modeling RMSLE %.5f' % model.best_score)\n",
        "\n",
        "# создаём submission-файл\n",
        "submission_xgb = pd.DataFrame({'id': test_id, 'trip_duration': y_test_predict})\n",
        "submission_xgb.to_csv('Documents/submission_xgb.csv', index = False)"
      ]
    },
    {
      "cell_type": "markdown",
      "metadata": {
        "id": "q7M-50qEETZF"
      },
      "source": [
        "Также как и все модели, основанные на использовании деревьев решений в качестве базовых моделей, XGBoost имеет возможность определения коэффициентов важности факторов. Более того, в библиотеку встроена возможность визуализации важность факторов в виде столбчатой диаграммы. За эту возможность отвечает функция plot_importance():\n"
      ]
    },
    {
      "cell_type": "code",
      "execution_count": null,
      "metadata": {
        "id": "ijXiGfMIETZF"
      },
      "outputs": [],
      "source": [
        "fig, ax = plt.subplots(figsize = (15,15))\n",
        "xgb.plot_importance(model, ax = ax, height=0.5)"
      ]
    }
  ],
  "metadata": {
    "colab": {
      "provenance": []
    },
    "kernelspec": {
      "display_name": "Python 3 (ipykernel)",
      "language": "python",
      "name": "python3"
    },
    "language_info": {
      "codemirror_mode": {
        "name": "ipython",
        "version": 3
      },
      "file_extension": ".py",
      "mimetype": "text/x-python",
      "name": "python",
      "nbconvert_exporter": "python",
      "pygments_lexer": "ipython3",
      "version": "3.9.7"
    }
  },
  "nbformat": 4,
  "nbformat_minor": 0
}